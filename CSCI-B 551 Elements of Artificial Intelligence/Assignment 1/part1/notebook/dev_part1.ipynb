{
 "cells": [
  {
   "cell_type": "code",
   "execution_count": 11,
   "source": [
    "import os, sys,heapq\n",
    "from pprint import pprint\n",
    "sys.path.append(os.path.abspath('/Users/mq1/IU/csci_b551/bwcooley-mckquinn-a1/part1'))\n",
    "import solver2021\n",
    "\n",
    "%load_ext autoreload\n",
    "%autoreload 2"
   ],
   "outputs": [
    {
     "output_type": "stream",
     "name": "stdout",
     "text": [
      "The autoreload extension is already loaded. To reload it, use:\n",
      "  %reload_ext autoreload\n"
     ]
    }
   ],
   "metadata": {}
  },
  {
   "cell_type": "markdown",
   "source": [
    "## Getting Started"
   ],
   "metadata": {}
  },
  {
   "cell_type": "code",
   "execution_count": 2,
   "source": [
    "#File path\n",
    "file_name = '/Users/mq1/IU/csci_b551/bwcooley-mckquinn-a1/part1/board1.txt'"
   ],
   "outputs": [],
   "metadata": {}
  },
  {
   "cell_type": "code",
   "execution_count": 3,
   "source": [
    "#File path\n",
    "file_name = '/Users/mq1/IU/csci_b551/bwcooley-mckquinn-a1/part1/board1.txt'\n",
    "#read in sample board\n",
    "start_state = []\n",
    "with open(file_name, 'r') as file:\n",
    "    for line in file:\n",
    "        print(line.split())\n",
    "        start_state += [ int(i) for i in line.split() ]"
   ],
   "outputs": [
    {
     "output_type": "stream",
     "name": "stdout",
     "text": [
      "['12', '6', '10', '1', '23']\n",
      "['16', '17', '13', '7', '25']\n",
      "['19', '14', '8', '3', '4']\n",
      "['21', '15', '9', '20', '5']\n",
      "['22', '18', '24', '2', '11']\n"
     ]
    }
   ],
   "metadata": {}
  },
  {
   "cell_type": "code",
   "execution_count": 4,
   "source": [
    "#reformat input \n",
    "grid = list()\n",
    "row = list()\n",
    "\n",
    "for i in start_state:\n",
    "    row.append(i)\n",
    "    if len(row) == 5: \n",
    "        grid.append(row)\n",
    "        row = list()\n"
   ],
   "outputs": [],
   "metadata": {}
  },
  {
   "cell_type": "code",
   "execution_count": 5,
   "source": [
    "pprint(grid)"
   ],
   "outputs": [
    {
     "output_type": "stream",
     "name": "stdout",
     "text": [
      "[[12, 6, 10, 1, 23],\n",
      " [16, 17, 13, 7, 25],\n",
      " [19, 14, 8, 3, 4],\n",
      " [21, 15, 9, 20, 5],\n",
      " [22, 18, 24, 2, 11]]\n"
     ]
    }
   ],
   "metadata": {}
  },
  {
   "cell_type": "markdown",
   "source": [
    "## Left and right movements"
   ],
   "metadata": {}
  },
  {
   "cell_type": "code",
   "execution_count": 6,
   "source": [
    "row = grid[0]\n",
    "print('initial: ', row)\n",
    "#move left\n",
    "print('move left: ', row[1:]+row[:1])\n",
    "#move right \n",
    "print('move right: ', row[-1:]+row[:-1])"
   ],
   "outputs": [
    {
     "output_type": "stream",
     "name": "stdout",
     "text": [
      "initial:  [12, 6, 10, 1, 23]\n",
      "move left:  [6, 10, 1, 23, 12]\n",
      "move right:  [23, 12, 6, 10, 1]\n"
     ]
    }
   ],
   "metadata": {}
  },
  {
   "cell_type": "markdown",
   "source": [
    "## Transpose Board"
   ],
   "metadata": {}
  },
  {
   "cell_type": "code",
   "execution_count": 7,
   "source": [
    "#to move up and down we can transpose the board and reuse left and right moves.\n",
    "grid_t = [[grid[r][c] for r in range(len(grid))] for c in range(len(grid[0]))]"
   ],
   "outputs": [],
   "metadata": {}
  },
  {
   "cell_type": "code",
   "execution_count": 8,
   "source": [
    "print('inital: ')\n",
    "pprint(grid)"
   ],
   "outputs": [
    {
     "output_type": "stream",
     "name": "stdout",
     "text": [
      "inital: \n",
      "[[12, 6, 10, 1, 23],\n",
      " [16, 17, 13, 7, 25],\n",
      " [19, 14, 8, 3, 4],\n",
      " [21, 15, 9, 20, 5],\n",
      " [22, 18, 24, 2, 11]]\n"
     ]
    }
   ],
   "metadata": {}
  },
  {
   "cell_type": "code",
   "execution_count": 9,
   "source": [
    "print('Transposed:')\n",
    "pprint(grid_t)"
   ],
   "outputs": [
    {
     "output_type": "stream",
     "name": "stdout",
     "text": [
      "Transposed:\n",
      "[[12, 16, 19, 21, 22],\n",
      " [6, 17, 14, 15, 18],\n",
      " [10, 13, 8, 9, 24],\n",
      " [1, 7, 3, 20, 2],\n",
      " [23, 25, 4, 5, 11]]\n"
     ]
    }
   ],
   "metadata": {}
  },
  {
   "cell_type": "markdown",
   "source": [
    "## Clockwise and Counter clockweise rotation"
   ],
   "metadata": {}
  },
  {
   "cell_type": "code",
   "execution_count": 116,
   "source": [
    "#move last shift element to top row\n",
    "top_row = grid[1][0]\n",
    "#remove extra element from row to use later\n",
    "extra = grid[0].pop()\n",
    "#insert element to top row\n",
    "grid[0].insert(0, top_row)\n"
   ],
   "outputs": [],
   "metadata": {}
  },
  {
   "cell_type": "code",
   "execution_count": 117,
   "source": [
    "#transpose grid\n",
    "grid = solver2021.transpose_grid(grid)"
   ],
   "outputs": [],
   "metadata": {}
  },
  {
   "cell_type": "code",
   "execution_count": 118,
   "source": [
    "pprint(grid)"
   ],
   "outputs": [
    {
     "output_type": "stream",
     "name": "stdout",
     "text": [
      "[[16, 16, 19, 21, 22],\n",
      " [12, 17, 14, 15, 18],\n",
      " [6, 13, 8, 9, 24],\n",
      " [10, 7, 3, 20, 2],\n",
      " [1, 25, 4, 5, 11]]\n"
     ]
    }
   ],
   "metadata": {}
  },
  {
   "cell_type": "code",
   "execution_count": 119,
   "source": [
    "grid[-1].insert(1, extra)\n",
    "extra = grid[-1].pop()\n"
   ],
   "outputs": [],
   "metadata": {}
  },
  {
   "cell_type": "code",
   "execution_count": 120,
   "source": [
    "pprint(grid)"
   ],
   "outputs": [
    {
     "output_type": "stream",
     "name": "stdout",
     "text": [
      "[[16, 16, 19, 21, 22],\n",
      " [12, 17, 14, 15, 18],\n",
      " [6, 13, 8, 9, 24],\n",
      " [10, 7, 3, 20, 2],\n",
      " [1, 23, 25, 4, 5]]\n"
     ]
    }
   ],
   "metadata": {}
  },
  {
   "cell_type": "code",
   "execution_count": 121,
   "source": [
    "grid = solver2021.transpose_grid(grid)"
   ],
   "outputs": [],
   "metadata": {}
  },
  {
   "cell_type": "code",
   "execution_count": 122,
   "source": [
    "pprint(grid)"
   ],
   "outputs": [
    {
     "output_type": "stream",
     "name": "stdout",
     "text": [
      "[[16, 12, 6, 10, 1],\n",
      " [16, 17, 13, 7, 23],\n",
      " [19, 14, 8, 3, 25],\n",
      " [21, 15, 9, 20, 4],\n",
      " [22, 18, 24, 2, 5]]\n"
     ]
    }
   ],
   "metadata": {}
  },
  {
   "cell_type": "code",
   "execution_count": 123,
   "source": [
    "grid[-1].insert(-1, extra)\n",
    "extra = grid[-1].pop(0)\n"
   ],
   "outputs": [],
   "metadata": {}
  },
  {
   "cell_type": "code",
   "execution_count": 124,
   "source": [
    "grid = solver2021.transpose_grid(grid)"
   ],
   "outputs": [],
   "metadata": {}
  },
  {
   "cell_type": "code",
   "execution_count": 125,
   "source": [
    "grid[0].insert(-1, extra)\n",
    "extra = grid[0].pop(0)\n"
   ],
   "outputs": [],
   "metadata": {}
  },
  {
   "cell_type": "code",
   "execution_count": 126,
   "source": [
    "x = solver2021.transpose_grid(grid)"
   ],
   "outputs": [],
   "metadata": {}
  },
  {
   "cell_type": "code",
   "execution_count": 127,
   "source": [
    "pprint(x)"
   ],
   "outputs": [
    {
     "output_type": "stream",
     "name": "stdout",
     "text": [
      "[[16, 12, 6, 10, 1],\n",
      " [19, 17, 13, 7, 23],\n",
      " [21, 14, 8, 3, 25],\n",
      " [22, 15, 9, 20, 4],\n",
      " [18, 24, 2, 11, 5]]\n"
     ]
    }
   ],
   "metadata": {}
  },
  {
   "cell_type": "code",
   "execution_count": 6,
   "source": [
    "#check function in script\n",
    "solver2021.rotate_clockwise(grid)"
   ],
   "outputs": [
    {
     "output_type": "execute_result",
     "data": {
      "text/plain": [
       "[[16, 12, 6, 10, 1],\n",
       " [19, 17, 13, 7, 23],\n",
       " [21, 14, 8, 3, 25],\n",
       " [22, 15, 9, 20, 4],\n",
       " [18, 24, 2, 11, 5]]"
      ]
     },
     "metadata": {},
     "execution_count": 6
    }
   ],
   "metadata": {}
  },
  {
   "cell_type": "code",
   "execution_count": 102,
   "source": [
    "## Counter Clockwsie\n",
    "pprint(grid)"
   ],
   "outputs": [
    {
     "output_type": "stream",
     "name": "stdout",
     "text": [
      "[[12, 6, 10, 1, 23],\n",
      " [16, 17, 13, 7, 25],\n",
      " [19, 14, 8, 3, 4],\n",
      " [21, 15, 9, 20, 5],\n",
      " [22, 18, 24, 2, 11]]\n"
     ]
    }
   ],
   "metadata": {}
  },
  {
   "cell_type": "code",
   "execution_count": 103,
   "source": [
    "top_row = grid[1][-1]\n",
    "extra = grid[0].pop(0)\n",
    "grid[0].append(top_row)"
   ],
   "outputs": [],
   "metadata": {}
  },
  {
   "cell_type": "code",
   "execution_count": 104,
   "source": [
    "extra"
   ],
   "outputs": [
    {
     "output_type": "execute_result",
     "data": {
      "text/plain": [
       "12"
      ]
     },
     "metadata": {},
     "execution_count": 104
    }
   ],
   "metadata": {}
  },
  {
   "cell_type": "code",
   "execution_count": 105,
   "source": [
    "grid_t1 = solver2021.transpose_board(grid)\n"
   ],
   "outputs": [],
   "metadata": {}
  },
  {
   "cell_type": "code",
   "execution_count": 106,
   "source": [
    "pprint(grid)"
   ],
   "outputs": [
    {
     "output_type": "stream",
     "name": "stdout",
     "text": [
      "[[6, 10, 1, 23, 25],\n",
      " [16, 17, 13, 7, 25],\n",
      " [19, 14, 8, 3, 4],\n",
      " [21, 15, 9, 20, 5],\n",
      " [22, 18, 24, 2, 11]]\n"
     ]
    }
   ],
   "metadata": {}
  },
  {
   "cell_type": "code",
   "execution_count": 107,
   "source": [
    "grid_t1[0].insert(1, extra)\n",
    "extra = grid_t1[0].pop()"
   ],
   "outputs": [],
   "metadata": {}
  },
  {
   "cell_type": "code",
   "execution_count": 108,
   "source": [
    "pprint(grid_t1)"
   ],
   "outputs": [
    {
     "output_type": "stream",
     "name": "stdout",
     "text": [
      "[[6, 12, 16, 19, 21],\n",
      " [10, 17, 14, 15, 18],\n",
      " [1, 13, 8, 9, 24],\n",
      " [23, 7, 3, 20, 2],\n",
      " [25, 25, 4, 5, 11]]\n"
     ]
    }
   ],
   "metadata": {}
  },
  {
   "cell_type": "code",
   "execution_count": 109,
   "source": [
    "extra"
   ],
   "outputs": [
    {
     "output_type": "execute_result",
     "data": {
      "text/plain": [
       "22"
      ]
     },
     "metadata": {},
     "execution_count": 109
    }
   ],
   "metadata": {}
  },
  {
   "cell_type": "code",
   "execution_count": 110,
   "source": [
    "grid_t2 = solver2021.transpose_board(grid_t1)"
   ],
   "outputs": [],
   "metadata": {}
  },
  {
   "cell_type": "code",
   "execution_count": 111,
   "source": [
    "pprint(grid_t2)"
   ],
   "outputs": [
    {
     "output_type": "stream",
     "name": "stdout",
     "text": [
      "[[6, 10, 1, 23, 25],\n",
      " [12, 17, 13, 7, 25],\n",
      " [16, 14, 8, 3, 4],\n",
      " [19, 15, 9, 20, 5],\n",
      " [21, 18, 24, 2, 11]]\n"
     ]
    }
   ],
   "metadata": {}
  },
  {
   "cell_type": "code",
   "execution_count": 112,
   "source": [
    "grid_t2[-1].insert(1, extra)\n",
    "extra = grid_t2[-1].pop()"
   ],
   "outputs": [],
   "metadata": {}
  },
  {
   "cell_type": "code",
   "execution_count": 113,
   "source": [
    "pprint(grid_t2)"
   ],
   "outputs": [
    {
     "output_type": "stream",
     "name": "stdout",
     "text": [
      "[[6, 10, 1, 23, 25],\n",
      " [12, 17, 13, 7, 25],\n",
      " [16, 14, 8, 3, 4],\n",
      " [19, 15, 9, 20, 5],\n",
      " [21, 22, 18, 24, 2]]\n"
     ]
    }
   ],
   "metadata": {}
  },
  {
   "cell_type": "code",
   "execution_count": 114,
   "source": [
    "grid_t3 = solver2021.transpose_board(grid_t2)"
   ],
   "outputs": [],
   "metadata": {}
  },
  {
   "cell_type": "code",
   "execution_count": 115,
   "source": [
    "pprint(grid_t3)"
   ],
   "outputs": [
    {
     "output_type": "stream",
     "name": "stdout",
     "text": [
      "[[6, 12, 16, 19, 21],\n",
      " [10, 17, 14, 15, 22],\n",
      " [1, 13, 8, 9, 18],\n",
      " [23, 7, 3, 20, 24],\n",
      " [25, 25, 4, 5, 2]]\n"
     ]
    }
   ],
   "metadata": {}
  },
  {
   "cell_type": "code",
   "execution_count": 116,
   "source": [
    "grid_t3[-1][-2]"
   ],
   "outputs": [
    {
     "output_type": "execute_result",
     "data": {
      "text/plain": [
       "5"
      ]
     },
     "metadata": {},
     "execution_count": 116
    }
   ],
   "metadata": {}
  },
  {
   "cell_type": "code",
   "execution_count": 117,
   "source": [
    "extra"
   ],
   "outputs": [
    {
     "output_type": "execute_result",
     "data": {
      "text/plain": [
       "11"
      ]
     },
     "metadata": {},
     "execution_count": 117
    }
   ],
   "metadata": {}
  },
  {
   "cell_type": "code",
   "execution_count": 118,
   "source": [
    "grid_t3[-1].insert(-1, extra)\n",
    "extra = grid_t3[-1].pop(0)"
   ],
   "outputs": [],
   "metadata": {}
  },
  {
   "cell_type": "code",
   "execution_count": 119,
   "source": [
    "pprint(grid_t3)"
   ],
   "outputs": [
    {
     "output_type": "stream",
     "name": "stdout",
     "text": [
      "[[6, 12, 16, 19, 21],\n",
      " [10, 17, 14, 15, 22],\n",
      " [1, 13, 8, 9, 18],\n",
      " [23, 7, 3, 20, 24],\n",
      " [25, 4, 5, 11, 2]]\n"
     ]
    }
   ],
   "metadata": {}
  },
  {
   "cell_type": "code",
   "execution_count": 120,
   "source": [
    "x = solver2021.transpose_board(grid_t3)"
   ],
   "outputs": [],
   "metadata": {}
  },
  {
   "cell_type": "code",
   "execution_count": 121,
   "source": [
    "pprint(x)"
   ],
   "outputs": [
    {
     "output_type": "stream",
     "name": "stdout",
     "text": [
      "[[6, 10, 1, 23, 25],\n",
      " [12, 17, 13, 7, 4],\n",
      " [16, 14, 8, 3, 5],\n",
      " [19, 15, 9, 20, 11],\n",
      " [21, 22, 18, 24, 2]]\n"
     ]
    }
   ],
   "metadata": {}
  },
  {
   "cell_type": "code",
   "execution_count": 6,
   "source": [
    "test = solver2021.rotate_counterclockwise(grid)"
   ],
   "outputs": [],
   "metadata": {}
  },
  {
   "cell_type": "code",
   "execution_count": 7,
   "source": [
    "pprint(test)"
   ],
   "outputs": [
    {
     "output_type": "stream",
     "name": "stdout",
     "text": [
      "[[6, 10, 1, 23, 25],\n",
      " [12, 17, 13, 7, 4],\n",
      " [16, 14, 8, 3, 5],\n",
      " [19, 15, 9, 20, 11],\n",
      " [21, 22, 18, 24, 2]]\n"
     ]
    }
   ],
   "metadata": {}
  },
  {
   "cell_type": "code",
   "execution_count": 19,
   "source": [
    "inner = grid[1:-1]"
   ],
   "outputs": [],
   "metadata": {}
  },
  {
   "cell_type": "code",
   "execution_count": 24,
   "source": [
    "inner = [row[1:-1] for row in inner]\n",
    "    "
   ],
   "outputs": [],
   "metadata": {}
  },
  {
   "cell_type": "code",
   "execution_count": 25,
   "source": [
    "inner"
   ],
   "outputs": [
    {
     "output_type": "execute_result",
     "data": {
      "text/plain": [
       "[[17, 13, 7], [14, 8, 3], [15, 9, 20]]"
      ]
     },
     "metadata": {},
     "execution_count": 25
    }
   ],
   "metadata": {}
  },
  {
   "cell_type": "code",
   "execution_count": 33,
   "source": [
    "board = list()\n",
    "for row in range(len(grid)):\n",
    "    if row in (1,2,3):\n",
    "        grid[row][1:-1] = inner[row-1]"
   ],
   "outputs": [],
   "metadata": {}
  },
  {
   "cell_type": "code",
   "execution_count": 34,
   "source": [
    "grid"
   ],
   "outputs": [
    {
     "output_type": "execute_result",
     "data": {
      "text/plain": [
       "[[6, 15, 9, 20, 25],\n",
       " [16, 17, 13, 7, 25],\n",
       " [19, 14, 8, 3, 4],\n",
       " [21, 15, 9, 20, 5],\n",
       " [22, 18, 24, 2, 11]]"
      ]
     },
     "metadata": {},
     "execution_count": 34
    }
   ],
   "metadata": {}
  },
  {
   "cell_type": "markdown",
   "source": [
    "## Successor and Heuristic "
   ],
   "metadata": {}
  },
  {
   "cell_type": "code",
   "execution_count": 3,
   "source": [
    "#File path\n",
    "file_name = '/Users/mq1/IU/csci_b551/bwcooley-mckquinn-a1/part1/board0.5.txt'\n",
    "#read in sample board\n",
    "\n",
    "start_state = []\n",
    "with open(file_name, 'r') as file:\n",
    "    for line in file:\n",
    "        start_state += [ int(i) for i in line.split() ]"
   ],
   "outputs": [],
   "metadata": {}
  },
  {
   "cell_type": "code",
   "execution_count": 20,
   "source": [
    "grid = solver2021.transform_board(start_state)\n",
    "possible_moves = ['R1','R2','R3','R4','R5','L1','L2','L3','L4','L5','U1','U2','U3','U4','U5','D1',\n",
    "'D2','D3','D4','D5','Ic','Icc','Oc','Occ']\n",
    "grid_copy = copy.deepcopy(grid)\n",
    "\n"
   ],
   "outputs": [
    {
     "output_type": "error",
     "ename": "NameError",
     "evalue": "name 'copy' is not defined",
     "traceback": [
      "\u001b[0;31m---------------------------------------------------------------------------\u001b[0m",
      "\u001b[0;31mNameError\u001b[0m                                 Traceback (most recent call last)",
      "\u001b[0;32m<ipython-input-20-1d0026b4c780>\u001b[0m in \u001b[0;36m<module>\u001b[0;34m\u001b[0m\n\u001b[1;32m      2\u001b[0m possible_moves = ['R1','R2','R3','R4','R5','L1','L2','L3','L4','L5','U1','U2','U3','U4','U5','D1',\n\u001b[1;32m      3\u001b[0m 'D2','D3','D4','D5','Ic','Icc','Oc','Occ']\n\u001b[0;32m----> 4\u001b[0;31m \u001b[0mgrid_copy\u001b[0m \u001b[0;34m=\u001b[0m \u001b[0mcopy\u001b[0m\u001b[0;34m.\u001b[0m\u001b[0mdeepcopy\u001b[0m\u001b[0;34m(\u001b[0m\u001b[0mgrid\u001b[0m\u001b[0;34m)\u001b[0m\u001b[0;34m\u001b[0m\u001b[0;34m\u001b[0m\u001b[0m\n\u001b[0m\u001b[1;32m      5\u001b[0m \u001b[0;34m\u001b[0m\u001b[0m\n",
      "\u001b[0;31mNameError\u001b[0m: name 'copy' is not defined"
     ]
    }
   ],
   "metadata": {}
  },
  {
   "cell_type": "code",
   "execution_count": 56,
   "source": [
    "pprint(grid)"
   ],
   "outputs": [],
   "metadata": {}
  },
  {
   "cell_type": "code",
   "execution_count": 41,
   "source": [
    "x = solver2021.add_board(grid, 'R1')"
   ],
   "outputs": [],
   "metadata": {}
  },
  {
   "cell_type": "code",
   "execution_count": 47,
   "source": [
    "pprint(grid)"
   ],
   "outputs": [
    {
     "output_type": "stream",
     "name": "stdout",
     "text": [
      "[[12, 6, 10, 1, 23],\n",
      " [16, 17, 13, 7, 25],\n",
      " [19, 14, 8, 3, 4],\n",
      " [21, 15, 9, 20, 5],\n",
      " [22, 18, 24, 2, 11]]\n"
     ]
    }
   ],
   "metadata": {}
  },
  {
   "cell_type": "code",
   "execution_count": 53,
   "source": [
    "pprint(grid)"
   ],
   "outputs": [
    {
     "output_type": "stream",
     "name": "stdout",
     "text": [
      "[[12, 6, 10, 1, 23],\n",
      " [16, 17, 13, 7, 25],\n",
      " [19, 14, 8, 3, 4],\n",
      " [21, 15, 9, 20, 5],\n",
      " [22, 18, 24, 2, 11]]\n"
     ]
    }
   ],
   "metadata": {}
  },
  {
   "cell_type": "code",
   "execution_count": 55,
   "source": [
    "solver2021.add_board(grid, 'U3')"
   ],
   "outputs": [
    {
     "output_type": "execute_result",
     "data": {
      "text/plain": [
       "[[12, 6, 13, 1, 23],\n",
       " [16, 17, 8, 7, 25],\n",
       " [19, 14, 9, 3, 4],\n",
       " [21, 15, 24, 20, 5],\n",
       " [22, 18, 10, 2, 11]]"
      ]
     },
     "metadata": {},
     "execution_count": 55
    }
   ],
   "metadata": {}
  },
  {
   "cell_type": "code",
   "execution_count": 45,
   "source": [
    "x = [ [solver2021.add_board(grid, i), i] for i in possible_moves]"
   ],
   "outputs": [],
   "metadata": {}
  },
  {
   "cell_type": "code",
   "execution_count": 75,
   "source": [
    "board = [[1,2,3,4,5],\n",
    "                  [6,7,8,9,10],\n",
    "                  [11,12,13,14,15],\n",
    "                  [16,17,18,19,20],\n",
    "                  [21,22,23,24,25]]\n",
    "possible_moves = ['R1','R2','R3','R4','R5','L1','L2','L3','L4','L5','U1','U2','U3','U4','U5','D1',\n",
    "'D2','D3','D4','D5','Ic','Icc','Oc','Occ']"
   ],
   "outputs": [],
   "metadata": {}
  },
  {
   "cell_type": "code",
   "execution_count": 71,
   "source": [
    "goal_sate_coords = dict()\n",
    "for x in range(len(goal_state)):\n",
    "        for y in range((len(goal_state[0]))):\n",
    "            goal_sate_coords[goal_state[x][y]] = (x,y)"
   ],
   "outputs": [],
   "metadata": {}
  },
  {
   "cell_type": "code",
   "execution_count": 50,
   "source": [
    "goal_sate_coords"
   ],
   "outputs": [
    {
     "output_type": "execute_result",
     "data": {
      "text/plain": [
       "{1: (0, 0),\n",
       " 2: (0, 1),\n",
       " 3: (0, 2),\n",
       " 4: (0, 3),\n",
       " 5: (0, 4),\n",
       " 6: (1, 0),\n",
       " 7: (1, 1),\n",
       " 8: (1, 2),\n",
       " 9: (1, 3),\n",
       " 10: (1, 4),\n",
       " 11: (2, 0),\n",
       " 12: (2, 1),\n",
       " 13: (2, 2),\n",
       " 14: (2, 3),\n",
       " 15: (2, 4),\n",
       " 16: (3, 0),\n",
       " 17: (3, 1),\n",
       " 18: (3, 2),\n",
       " 19: (3, 3),\n",
       " 20: (3, 4),\n",
       " 21: (4, 0),\n",
       " 22: (4, 1),\n",
       " 23: (4, 2),\n",
       " 24: (4, 3),\n",
       " 25: (4, 4)}"
      ]
     },
     "metadata": {},
     "execution_count": 50
    }
   ],
   "metadata": {}
  },
  {
   "cell_type": "code",
   "execution_count": 72,
   "source": [
    "import numpy as np\n",
    "moves = np.random.choice(possible_moves, 7)"
   ],
   "outputs": [],
   "metadata": {}
  },
  {
   "cell_type": "code",
   "execution_count": 63,
   "source": [
    "moves"
   ],
   "outputs": [
    {
     "output_type": "execute_result",
     "data": {
      "text/plain": [
       "array(['R1', 'Occ', 'U1', 'D2', 'L5'], dtype='<U3')"
      ]
     },
     "metadata": {},
     "execution_count": 63
    }
   ],
   "metadata": {}
  },
  {
   "cell_type": "code",
   "execution_count": 73,
   "source": [
    "for move in list(moves):\n",
    "    board = solver2021.add_board(board, move)"
   ],
   "outputs": [],
   "metadata": {}
  },
  {
   "cell_type": "code",
   "execution_count": 74,
   "source": [
    "sample = str()\n",
    "for row in board: \n",
    "    sample+= str(row).strip('[]').replace(',', '') + '\\n'\n",
    "with open('/Users/mq1/IU/csci_b551/bwcooley-mckquinn-a1/part1/test5.txt', 'w') as f:\n",
    "    f.writelines(sample)"
   ],
   "outputs": [],
   "metadata": {}
  },
  {
   "cell_type": "code",
   "execution_count": 39,
   "source": [
    "misplaced_tiles = 0 \n",
    "for row in range(len(grid)):\n",
    "    for col in range(len(grid)): \n",
    "        if grid[row][col] != goal_state[row][col]:\n",
    "            misplaced_tiles += 1\n",
    "#dividing by 16 since that is the maximum amount of tiles that can be changed in 1\n",
    "heuristic = misplaced_tiles/16 "
   ],
   "outputs": [],
   "metadata": {}
  },
  {
   "cell_type": "code",
   "execution_count": 10,
   "source": [
    "heuristic"
   ],
   "outputs": [
    {
     "output_type": "execute_result",
     "data": {
      "text/plain": [
       "1.5625"
      ]
     },
     "metadata": {},
     "execution_count": 10
    }
   ],
   "metadata": {}
  },
  {
   "cell_type": "code",
   "execution_count": 12,
   "source": [
    "#File path\n",
    "file_name = '/Users/mq1/IU/csci_b551/bwcooley-mckquinn-a1/part1/board0.5.txt'\n",
    "#read in sample board\n",
    "\n",
    "start_state = []\n",
    "with open(file_name, 'r') as file:\n",
    "    for line in file:\n",
    "        start_state += [ int(i) for i in line.split() ]"
   ],
   "outputs": [],
   "metadata": {}
  },
  {
   "cell_type": "code",
   "execution_count": 5,
   "source": [
    "solver2021.printable_board(tuple(start_state))"
   ],
   "outputs": [
    {
     "output_type": "execute_result",
     "data": {
      "text/plain": [
       "['  6  21   3   4  10 ',\n",
       " '  7   2   8   9  11 ',\n",
       " ' 16  13  19  14  20 ',\n",
       " ' 25  12  18  15  24 ',\n",
       " '  1  17  22  23   5 ']"
      ]
     },
     "metadata": {},
     "execution_count": 5
    }
   ],
   "metadata": {}
  },
  {
   "cell_type": "code",
   "execution_count": 14,
   "source": [
    "board = solver2021.transform_board(tuple(start_state))"
   ],
   "outputs": [],
   "metadata": {}
  },
  {
   "cell_type": "code",
   "execution_count": 16,
   "source": [
    "solver2021.calculate_heuristic(board)"
   ],
   "outputs": [
    {
     "output_type": "stream",
     "name": "stdout",
     "text": [
      "[[6, 21, 3, 4, 10], [7, 2, 8, 9, 11], [16, 13, 19, 14, 20], [25, 12, 18, 15, 24], [1, 17, 22, 23, 5]]\n"
     ]
    },
    {
     "output_type": "execute_result",
     "data": {
      "text/plain": [
       "2.5"
      ]
     },
     "metadata": {},
     "execution_count": 16
    }
   ],
   "metadata": {}
  },
  {
   "cell_type": "code",
   "execution_count": 18,
   "source": [
    "[] + ['h']"
   ],
   "outputs": [
    {
     "output_type": "execute_result",
     "data": {
      "text/plain": [
       "['h']"
      ]
     },
     "metadata": {},
     "execution_count": 18
    }
   ],
   "metadata": {}
  },
  {
   "cell_type": "code",
   "execution_count": 17,
   "source": [
    "route = ['D5', 'D1', 'U2', 'L5', 'Icc', 'R3', 'Ic']\n",
    "print(\"Solution found in \" + str(len(route)) + \" moves:\" + \"\\n\" + \" \".join(route))\n"
   ],
   "outputs": [
    {
     "output_type": "stream",
     "name": "stdout",
     "text": [
      "Solution found in 7 moves:\n",
      "D5 D1 U2 L5 Icc R3 Ic\n"
     ]
    }
   ],
   "metadata": {}
  },
  {
   "cell_type": "markdown",
   "source": [],
   "metadata": {}
  }
 ],
 "metadata": {
  "orig_nbformat": 4,
  "language_info": {
   "name": "python",
   "version": "3.7.3",
   "mimetype": "text/x-python",
   "codemirror_mode": {
    "name": "ipython",
    "version": 3
   },
   "pygments_lexer": "ipython3",
   "nbconvert_exporter": "python",
   "file_extension": ".py"
  },
  "kernelspec": {
   "name": "python3",
   "display_name": "Python 3.7.3 64-bit"
  },
  "interpreter": {
   "hash": "31f2aee4e71d21fbe5cf8b01ff0e069b9275f58929596ceb00d14d90e3e16cd6"
  }
 },
 "nbformat": 4,
 "nbformat_minor": 2
}