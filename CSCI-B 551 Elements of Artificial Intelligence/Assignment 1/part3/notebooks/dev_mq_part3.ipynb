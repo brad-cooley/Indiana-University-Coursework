{
 "cells": [
  {
   "cell_type": "code",
   "execution_count": 46,
   "source": [
    "import os, sys\n",
    "from pprint import pprint\n",
    "import numpy as np\n",
    "sys.path.append(os.path.abspath('/Users/mq1/IU/csci_b551/bwcooley-mckquinn-a1/part3'))\n",
    "import assign\n",
    "\n",
    "%load_ext autoreload\n",
    "%autoreload 2\n"
   ],
   "outputs": [
    {
     "output_type": "stream",
     "name": "stdout",
     "text": [
      "The autoreload extension is already loaded. To reload it, use:\n",
      "  %reload_ext autoreload\n"
     ]
    }
   ],
   "metadata": {}
  },
  {
   "cell_type": "code",
   "execution_count": 33,
   "source": [
    "input_file = '/Users/mq1/IU/csci_b551/bwcooley-mckquinn-a1/part3/test1.txt'"
   ],
   "outputs": [],
   "metadata": {}
  },
  {
   "cell_type": "code",
   "execution_count": 34,
   "source": [
    "data = list()\n",
    "with open(input_file, 'r') as file:\n",
    "        for line in file:\n",
    "           data.append(line.strip('\\n').split(' ')) "
   ],
   "outputs": [],
   "metadata": {}
  },
  {
   "cell_type": "code",
   "execution_count": 35,
   "source": [
    "data"
   ],
   "outputs": [
    {
     "output_type": "execute_result",
     "data": {
      "text/plain": [
       "[['djcran', 'djcran-vkvats-nthakurd', 'sahmaini'],\n",
       " ['sahmaini', 'sahmaini', '_'],\n",
       " ['sulagaop', 'sulagaop-xxx-xxx', '_'],\n",
       " ['fanjun', 'fanjun-xxx', 'nthakurd'],\n",
       " ['nthakurd', 'nthakurd', 'djcran,fanjun'],\n",
       " ['vkvats', 'vkvats-sahmaini', '_']]"
      ]
     },
     "metadata": {},
     "execution_count": 35
    }
   ],
   "metadata": {}
  },
  {
   "cell_type": "code",
   "execution_count": 36,
   "source": [
    "user_profile = dict()       #{user_id: [want_to_work_with, dont_want_to_work_with, 'desired_group_size]}\n",
    "for row in data: \n",
    "    user_profile[row[0]] = [row[1], row[2], len(row[1].split('-'))]"
   ],
   "outputs": [],
   "metadata": {}
  },
  {
   "cell_type": "code",
   "execution_count": 37,
   "source": [
    "user_profile"
   ],
   "outputs": [
    {
     "output_type": "execute_result",
     "data": {
      "text/plain": [
       "{'djcran': ['djcran-vkvats-nthakurd', 'sahmaini', 3],\n",
       " 'sahmaini': ['sahmaini', '_', 1],\n",
       " 'sulagaop': ['sulagaop-xxx-xxx', '_', 3],\n",
       " 'fanjun': ['fanjun-xxx', 'nthakurd', 2],\n",
       " 'nthakurd': ['nthakurd', 'djcran,fanjun', 1],\n",
       " 'vkvats': ['vkvats-sahmaini', '_', 2]}"
      ]
     },
     "metadata": {},
     "execution_count": 37
    }
   ],
   "metadata": {}
  },
  {
   "cell_type": "code",
   "execution_count": 43,
   "source": [],
   "outputs": [],
   "metadata": {}
  },
  {
   "cell_type": "code",
   "execution_count": 44,
   "source": [
    "get_first_grouping(user_profile)"
   ],
   "outputs": [
    {
     "output_type": "stream",
     "name": "stdout",
     "text": [
      "vkvats ['djcran']\n",
      "nthakurd ['djcran']\n",
      "sahmaini ['vkvats']\n"
     ]
    },
    {
     "output_type": "execute_result",
     "data": {
      "text/plain": [
       "(['djcran', 'sahmaini', 'sulagaop', 'fanjun', 'nthakurd', 'vkvats'], 47.0)"
      ]
     },
     "metadata": {},
     "execution_count": 44
    }
   ],
   "metadata": {}
  },
  {
   "cell_type": "code",
   "execution_count": 72,
   "source": [
    "# we can have group sizes of [3, 2, 1]\n",
    "# we may not always be able to break up groups in to the same amount of people per group\n",
    "group_sizes = [1, 2, 3]\n",
    "students = list(user_profile.keys())\n",
    "groups = list()\n",
    "while students:\n",
    "    #ranomly pick group sizes \n",
    "    size = list(np.random.choice(group_sizes, 1))[0]\n",
    "    try:\n",
    "        #randomly pick groups based on random group size selection\n",
    "        group_list = list(np.random.choice(students, size, replace = False))\n",
    "    except: \n",
    "        # if group size selected is less than remaining students, resample with\n",
    "        # smaller group size options and randomly select.\n",
    "        size = list(np.random.choice([i+1 for i in range(len(students))], 1))[0]\n",
    "        group_list = list(np.random.choice(students, size, replace = False))\n",
    "    group_name = '-'.join(group_list)\n",
    "    groups.append(group_name)\n",
    "    #remove selected students from pool of options.\n",
    "    for picked in group_list:\n",
    "        students.remove(picked)\n",
    "       \n"
   ],
   "outputs": [],
   "metadata": {}
  },
  {
   "cell_type": "code",
   "execution_count": 73,
   "source": [
    "groups"
   ],
   "outputs": [
    {
     "output_type": "execute_result",
     "data": {
      "text/plain": [
       "['vkvats', 'fanjun-sahmaini', 'djcran-sulagaop', 'nthakurd']"
      ]
     },
     "metadata": {},
     "execution_count": 73
    }
   ],
   "metadata": {}
  },
  {
   "cell_type": "code",
   "execution_count": 75,
   "source": [
    "students = list(user_profile.keys())\n",
    "x = list(np.random.choice(students, 3, replace = False))"
   ],
   "outputs": [],
   "metadata": {}
  },
  {
   "cell_type": "code",
   "execution_count": 8,
   "source": [
    "def wrong_group_size(group_mems, profile, counter):\n",
    "    if len(group_mems) != profile[2]:\n",
    "        counter += 1\n",
    "    return counter"
   ],
   "outputs": [],
   "metadata": {}
  },
  {
   "cell_type": "code",
   "execution_count": 29,
   "source": [
    "def not_with_requested(group_mems, profile, counter):\n",
    "    requested = profile[0].split('-')\n",
    "    for student in requested: \n",
    "        if student not in ['xxx', 'zzz']:\n",
    "            if student not in group_mems:\n",
    "                print(student, group_mems)\n",
    "                counter += 1\n",
    "    return counter"
   ],
   "outputs": [],
   "metadata": {}
  },
  {
   "cell_type": "code",
   "execution_count": 9,
   "source": [
    "def not_want_to_work_with(group_mems, profile, counter):\n",
    "    not_requested = profile[1].split(',')\n",
    "    for student in not_requested:\n",
    "        if student in group_mems:\n",
    "            counter+=1\n",
    "        \n",
    "    return counter"
   ],
   "outputs": [],
   "metadata": {}
  },
  {
   "cell_type": "code",
   "execution_count": 30,
   "source": [
    "def time_cost(assigned_group, user_profile):\n",
    "    total_cost = 0\n",
    "    #each group takes 5min to grade assignments (len(groups)*5)\n",
    "    total_cost += (len(assigned_group) * 5)\n",
    "    #counters \n",
    "    wrong_group_size_counter = 0\n",
    "    not_with_requested_counter = 0\n",
    "    not_want_to_work_with_counter = 0        \n",
    "    for group in assigned_group:\n",
    "        group_mems = group.split('-')\n",
    "        for mem in group_mems:\n",
    "            #recall... profile = [want_to_work_with, dont want to work with, desired_group_size]\n",
    "            profile = user_profile.get(mem)\n",
    "            wrong_group_size_counter = wrong_group_size(group_mems, profile, wrong_group_size_counter)\n",
    "            not_with_requested_counter = not_with_requested(group_mems, profile, not_with_requested_counter)\n",
    "            not_want_to_work_with_counter = not_want_to_work_with(group_mems, profile, not_want_to_work_with_counter)\n",
    "\n",
    "    #wrong group size (if persons group size != desired group size, 1*2)\n",
    "    total_cost += (wrong_group_size_counter * 2)\n",
    "    #didnt get to work with someone they rquested (# of people *.05*60)\n",
    "    total_cost += (not_with_requested_counter * .05 * 60)\n",
    "    #stuedent gets assigned to someone they did NOT want to work with, (#of sutdents *10)\n",
    "    total_cost += (not_want_to_work_with_counter * 10)\n",
    "    return total_cost"
   ],
   "outputs": [],
   "metadata": {}
  },
  {
   "cell_type": "code",
   "execution_count": 31,
   "source": [
    "assigned = [\"djcran-vkvats-nthakurd\", \"sahmaini\", \"sulagaop-fanjun\"]\n",
    "time_cost(assigned, user_profile)"
   ],
   "outputs": [
    {
     "output_type": "stream",
     "name": "stdout",
     "text": [
      "15\n",
      "djcran ['djcran', 'vkvats', 'nthakurd']\n",
      "vkvats ['djcran', 'vkvats', 'nthakurd']\n",
      "sahmaini ['djcran', 'vkvats', 'nthakurd']\n",
      "nthakurd ['djcran', 'vkvats', 'nthakurd']\n",
      "sahmaini ['sahmaini']\n",
      "sulagaop ['sulagaop', 'fanjun']\n",
      "fanjun ['sulagaop', 'fanjun']\n",
      "3\n",
      "1\n",
      "1\n"
     ]
    },
    {
     "output_type": "execute_result",
     "data": {
      "text/plain": [
       "34.0"
      ]
     },
     "metadata": {},
     "execution_count": 31
    }
   ],
   "metadata": {}
  },
  {
   "cell_type": "code",
   "execution_count": 25,
   "source": [
    "user_profile"
   ],
   "outputs": [
    {
     "output_type": "execute_result",
     "data": {
      "text/plain": [
       "{'djcran': ['djcran-vkvats-nthakurd', 'sahmaini', 3],\n",
       " 'sahmaini': ['sahmaini', '_', 1],\n",
       " 'sulagaop': ['sulagaop-xxx-xxx', '_', 3],\n",
       " 'fanjun': ['fanjun-xxx', 'nthakurd', 2],\n",
       " 'nthakurd': ['nthakurd', 'djcran,fanjun', 1],\n",
       " 'vkvats': ['vkvats-sahmaini', '_', 2]}"
      ]
     },
     "metadata": {},
     "execution_count": 25
    }
   ],
   "metadata": {}
  },
  {
   "cell_type": "code",
   "execution_count": null,
   "source": [],
   "outputs": [],
   "metadata": {}
  }
 ],
 "metadata": {
  "orig_nbformat": 4,
  "language_info": {
   "name": "python",
   "version": "3.7.3",
   "mimetype": "text/x-python",
   "codemirror_mode": {
    "name": "ipython",
    "version": 3
   },
   "pygments_lexer": "ipython3",
   "nbconvert_exporter": "python",
   "file_extension": ".py"
  },
  "kernelspec": {
   "name": "python3",
   "display_name": "Python 3.7.3 64-bit"
  },
  "interpreter": {
   "hash": "31f2aee4e71d21fbe5cf8b01ff0e069b9275f58929596ceb00d14d90e3e16cd6"
  }
 },
 "nbformat": 4,
 "nbformat_minor": 2
}