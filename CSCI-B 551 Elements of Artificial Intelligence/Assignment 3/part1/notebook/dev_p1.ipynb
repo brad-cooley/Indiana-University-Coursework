{
 "cells": [
  {
   "cell_type": "code",
   "execution_count": 2,
   "metadata": {},
   "outputs": [],
   "source": [
    "import os, sys\n",
    "from collections import Counter\n",
    "\n",
    "sys.path.append(os.path.abspath('/Users/mq1/IU/csci_b551/bwcooley-holtjohn-mckquinn-a3/part1'))\n",
    "from pos_solver import Solver\n",
    "from pos_scorer import Score\n",
    "%load_ext autoreload\n",
    "%autoreload 2\n"
   ]
  },
  {
   "cell_type": "code",
   "execution_count": 3,
   "metadata": {},
   "outputs": [],
   "source": [
    "## from label.py ... no edit to file\n",
    "def read_data(fname):\n",
    "    exemplars = []\n",
    "    file = open(fname, 'r')\n",
    "    for line in file:\n",
    "        data = tuple([w.lower() for w in line.split()])\n",
    "        exemplars += [ (data[0::2], data[1::2]), ]\n",
    "\n",
    "    return exemplars"
   ]
  },
  {
   "cell_type": "code",
   "execution_count": 84,
   "metadata": {},
   "outputs": [],
   "source": [
    "train_path = '/Users/mq1/IU/csci_b551/bwcooley-holtjohn-mckquinn-a3/part1/bc.train'\n",
    "test_tiny_path = '/Users/mq1/IU/csci_b551/bwcooley-holtjohn-mckquinn-a3/part1/bc.test.tiny'\n",
    "test_path = '/Users/mq1/IU/csci_b551/bwcooley-holtjohn-mckquinn-a3/part1/bc.test'"
   ]
  },
  {
   "cell_type": "code",
   "execution_count": 85,
   "metadata": {},
   "outputs": [],
   "source": [
    "data = read_data(train_path)"
   ]
  },
  {
   "cell_type": "code",
   "execution_count": 86,
   "metadata": {},
   "outputs": [
    {
     "data": {
      "text/plain": [
       "2000"
      ]
     },
     "execution_count": 86,
     "metadata": {},
     "output_type": "execute_result"
    }
   ],
   "source": [
    "len(read_data(test_path))"
   ]
  },
  {
   "cell_type": "code",
   "execution_count": 8,
   "metadata": {},
   "outputs": [],
   "source": [
    "#get corpus and tags\n",
    "corpus = list()\n",
    "tags = list()\n",
    "word_and_tag = list()\n",
    "for row in data: \n",
    "    for word in range(len(row[0])):\n",
    "        corpus.append(row[0][word])\n",
    "        tags.append(row[1][word])\n",
    "        word_and_tag.append((row[0][word], row[1][word]))\n",
    "        "
   ]
  },
  {
   "cell_type": "code",
   "execution_count": 9,
   "metadata": {},
   "outputs": [],
   "source": [
    "# get corpus counts \n",
    "corpus_count = dict(Counter(corpus))\n",
    "tags_count = dict(Counter(tags))\n",
    "word_and_tag_count = dict(Counter(word_and_tag))"
   ]
  },
  {
   "cell_type": "code",
   "execution_count": 45,
   "metadata": {},
   "outputs": [],
   "source": [
    "def get_prob(count_dict):\n",
    "    probs = dict()\n",
    "    total = sum(count_dict.values())\n",
    "    for word in count_dict:\n",
    "        probs[word] = count_dict[word]/total\n",
    "    return probs"
   ]
  },
  {
   "cell_type": "code",
   "execution_count": 46,
   "metadata": {},
   "outputs": [],
   "source": [
    "model_dict = dict()\n",
    "model_dict['p_of_tag'] = get_prob(tags_count)\n",
    "model_dict['p_of_word_tag'] = get_prob(word_and_tag_count)"
   ]
  },
  {
   "cell_type": "code",
   "execution_count": 47,
   "metadata": {},
   "outputs": [
    {
     "data": {
      "text/plain": [
       "0.06272252371580994"
      ]
     },
     "execution_count": 47,
     "metadata": {},
     "output_type": "execute_result"
    }
   ],
   "source": [
    "model_dict['p_of_word_tag'][('the', 'det')]"
   ]
  },
  {
   "cell_type": "code",
   "execution_count": 48,
   "metadata": {},
   "outputs": [
    {
     "data": {
      "text/plain": [
       "0.119560952796462"
      ]
     },
     "execution_count": 48,
     "metadata": {},
     "output_type": "execute_result"
    }
   ],
   "source": [
    "model_dict['p_of_tag']['det']"
   ]
  },
  {
   "cell_type": "code",
   "execution_count": 50,
   "metadata": {},
   "outputs": [
    {
     "data": {
      "text/plain": [
       "-2.7690346659336567"
      ]
     },
     "execution_count": 50,
     "metadata": {},
     "output_type": "execute_result"
    }
   ],
   "source": [
    "import math\n",
    "math.log(model_dict['p_of_word_tag'][('the', 'det')])\n"
   ]
  },
  {
   "cell_type": "code",
   "execution_count": 51,
   "metadata": {},
   "outputs": [
    {
     "data": {
      "text/plain": [
       "-2.1239289724072705"
      ]
     },
     "execution_count": 51,
     "metadata": {},
     "output_type": "execute_result"
    }
   ],
   "source": [
    "math.log(model_dict['p_of_tag']['det'])"
   ]
  },
  {
   "cell_type": "code",
   "execution_count": 71,
   "metadata": {},
   "outputs": [],
   "source": []
  },
  {
   "cell_type": "code",
   "execution_count": 73,
   "metadata": {},
   "outputs": [],
   "source": []
  },
  {
   "cell_type": "code",
   "execution_count": 69,
   "metadata": {},
   "outputs": [
    {
     "name": "stdout",
     "output_type": "stream",
     "text": [
      "(('the', 'fulton', 'county', 'grand', 'jury', 'said', 'friday', 'an', 'investigation', 'of', \"atlanta's\", 'recent', 'primary', 'election', 'produced', '``', 'no', 'evidence', \"''\", 'that', 'any', 'irregularities', 'took', 'place', '.'), ('det', 'noun', 'noun', 'adj', 'noun', 'verb', 'noun', 'det', 'noun', 'adp', 'noun', 'adj', 'noun', 'noun', 'verb', '.', 'det', 'noun', '.', 'adp', 'det', 'noun', 'verb', 'noun', '.'))\n"
     ]
    }
   ],
   "source": [
    "## get transition probabilities \n",
    "## get initial state distribution \n",
    "## get emission probabilities\n",
    "initial_state_dist = dict()\n",
    "tranistion_probs = dict()\n",
    "\n",
    "for row in train_data:\n",
    "    initial_state_dist = get_inital_counts(row, initial_state_dist)\n",
    "    transition_probs= get_transition_counts(row, transition_probs)\n",
    "    \n",
    "\n"
   ]
  },
  {
   "cell_type": "code",
   "execution_count": 72,
   "metadata": {},
   "outputs": [],
   "source": [
    "def get_emission_counts(row,emission_probs):\n",
    "    "
   ]
  },
  {
   "cell_type": "code",
   "execution_count": 78,
   "metadata": {},
   "outputs": [
    {
     "data": {
      "text/plain": [
       "12"
      ]
     },
     "execution_count": 78,
     "metadata": {},
     "output_type": "execute_result"
    }
   ],
   "source": [
    "len(labels)"
   ]
  },
  {
   "cell_type": "code",
   "execution_count": 79,
   "metadata": {},
   "outputs": [
    {
     "ename": "ValueError",
     "evalue": "math domain error",
     "output_type": "error",
     "traceback": [
      "\u001b[0;31m---------------------------------------------------------------------------\u001b[0m",
      "\u001b[0;31mValueError\u001b[0m                                Traceback (most recent call last)",
      "\u001b[0;32m<ipython-input-79-ef33763f67f9>\u001b[0m in \u001b[0;36m<module>\u001b[0;34m\u001b[0m\n\u001b[1;32m      1\u001b[0m \u001b[0;32mimport\u001b[0m \u001b[0mmath\u001b[0m\u001b[0;34m\u001b[0m\u001b[0;34m\u001b[0m\u001b[0m\n\u001b[0;32m----> 2\u001b[0;31m \u001b[0mmath\u001b[0m\u001b[0;34m.\u001b[0m\u001b[0mlog\u001b[0m\u001b[0;34m(\u001b[0m\u001b[0;34m-\u001b[0m\u001b[0;36m12.956671043096563\u001b[0m\u001b[0;34m)\u001b[0m\u001b[0;34m\u001b[0m\u001b[0;34m\u001b[0m\u001b[0m\n\u001b[0m",
      "\u001b[0;31mValueError\u001b[0m: math domain error"
     ]
    }
   ],
   "source": [
    "import math\n",
    "math.log(-12.956671043096563)"
   ]
  },
  {
   "cell_type": "code",
   "execution_count": 82,
   "metadata": {},
   "outputs": [
    {
     "data": {
      "text/plain": [
       "{}"
      ]
     },
     "execution_count": 82,
     "metadata": {},
     "output_type": "execute_result"
    }
   ],
   "source": [
    "solver = Solver()\n",
    "solver.forward_matrix_vt"
   ]
  },
  {
   "cell_type": "code",
   "execution_count": 90,
   "metadata": {},
   "outputs": [
    {
     "name": "stdout",
     "output_type": "stream",
     "text": [
      "16\n",
      "15\n",
      "14\n",
      "13\n",
      "12\n",
      "11\n",
      "10\n",
      "9\n",
      "8\n",
      "7\n",
      "6\n",
      "5\n",
      "4\n",
      "3\n",
      "2\n",
      "1\n",
      "0\n"
     ]
    }
   ],
   "source": [
    "for i in list(reversed(range(len(temp)))):\n",
    "    print(i)"
   ]
  },
  {
   "cell_type": "code",
   "execution_count": 91,
   "metadata": {},
   "outputs": [
    {
     "data": {
      "text/plain": [
       "-2.3025850929940455"
      ]
     },
     "execution_count": 91,
     "metadata": {},
     "output_type": "execute_result"
    }
   ],
   "source": [
    "math.log(.1)"
   ]
  },
  {
   "cell_type": "code",
   "execution_count": 92,
   "metadata": {},
   "outputs": [
    {
     "data": {
      "text/plain": [
       "-4.605170185988091"
      ]
     },
     "execution_count": 92,
     "metadata": {},
     "output_type": "execute_result"
    }
   ],
   "source": [
    "math.log(.01)"
   ]
  },
  {
   "cell_type": "code",
   "execution_count": 11,
   "metadata": {},
   "outputs": [],
   "source": [
    "sentence = ('poet', 'twisted', 'again', 'and', \"nick's\", 'knuckles', 'scraped', 'on', 'the', 'air', 'tank', ',', 'ripping', 'off', 'the', 'skin', '.')\n",
    "sample = ['noun' for i in range(len(sentence))]"
   ]
  },
  {
   "cell_type": "code",
   "execution_count": 7,
   "metadata": {},
   "outputs": [],
   "source": []
  },
  {
   "cell_type": "code",
   "execution_count": 22,
   "metadata": {},
   "outputs": [],
   "source": [
    "previous_part_of_speech = ' '\n",
    "if previous_part_of_speech != ' ':\n",
    "    print('hi')\n"
   ]
  },
  {
   "cell_type": "code",
   "execution_count": 39,
   "metadata": {},
   "outputs": [
    {
     "data": {
      "text/plain": [
       "['noun', 'verb', 'adj']"
      ]
     },
     "execution_count": 39,
     "metadata": {},
     "output_type": "execute_result"
    }
   ],
   "source": [
    "label"
   ]
  },
  {
   "cell_type": "code",
   "execution_count": 40,
   "metadata": {},
   "outputs": [
    {
     "data": {
      "text/plain": [
       "[('noun', 'noun'),\n",
       " ('noun', 'verb'),\n",
       " ('noun', 'adj'),\n",
       " ('verb', 'noun'),\n",
       " ('verb', 'verb'),\n",
       " ('verb', 'adj'),\n",
       " ('adj', 'noun'),\n",
       " ('adj', 'verb'),\n",
       " ('adj', 'adj')]"
      ]
     },
     "execution_count": 40,
     "metadata": {},
     "output_type": "execute_result"
    }
   ],
   "source": []
  },
  {
   "cell_type": "code",
   "execution_count": 56,
   "metadata": {},
   "outputs": [],
   "source": [
    "class Test():\n",
    "    def __init__(self):\n",
    "        self.emission_counts = dict()\n",
    "        self.transition_counts = dict()\n",
    "\n",
    "    def get_emission_counts(self, word, pos):\n",
    "        if word in self.emission_counts:\n",
    "            if pos in self.emission_counts[word]:\n",
    "                self.emission_counts[word][pos] += 1\n",
    "            else:\n",
    "                self.emission_counts[word][pos] = 1\n",
    "        else:\n",
    "            self.emission_counts[word] = { pos : 1}\n",
    "    def get_transition_counts(self, pos1, pos2, ):\n",
    "        if pos1 in self.transition_counts:\n",
    "            if pos2 in self.transition_counts[pos1]:\n",
    "                self.transition_counts[pos1][pos2] += 1\n",
    "            else: \n",
    "                self.transition_counts[pos1][pos2] = 1\n",
    "        else: \n",
    "            self.transition_counts[pos1] = {pos2 : 1}\n",
    "\n",
    "\n",
    "t = Test()\n",
    "for row in data: \n",
    "    [t.get_emission_counts(row[0][word], row[1][word]) for word in range(len(row[0]))]\n",
    "    [t.get_transition_counts(row[1][word-1], row[1][word]) for word in range(1, len(row[0]))]\n",
    "\n"
   ]
  },
  {
   "cell_type": "code",
   "execution_count": 82,
   "metadata": {},
   "outputs": [],
   "source": [
    "emissions = {'poet': {'noun': 0.0002755521641443046}, 'twisted': {'verb': 6.158183199107748e-05}, 'again': {'adv': 0.008835467450048214}, 'and': {'conj': 0.7546187543648022}, 'knuckles': {'noun': 1.2717792191275595e-05}, 'scraped': {'verb': 1.3684851553572773e-05}, 'on': {'adp': 0.040948884495905113}, 'the': {'x': 0.0025}, 'air': {'noun': 0.0008436135486879477}, 'tank': {'noun': 3.391411251006825e-05}, ',': {'.': 0.6615446995330109}, 'ripping': {'verb': 6.8424257767863865e-06}, 'off': {'adp': 0.0008633557913422359}, 'skin': {'noun': 0.00010598160159396329}, '.': {'.': 0.5333743463549677}, 'desperately': {'adv': 0.00026910053147354967}, 'nick': {'noun': 8.478528127517063e-06}, 'flashed': {'verb': 4.7896980437504705e-05}, 'one': {'num': 0.171335408329628}, 'hand': {'noun': 0.0012081902581711815}, 'up': {'prt': 0.05098302055406613}, 'catching': {'verb': 3.421212888393193e-05}, \"poet's\": {'noun': 3.391411251006825e-05}, 'neck': {'noun': 0.00017804909067785832}, 'in': {'adp': 0.14809375882519063}, 'bend': {'noun': 2.543558438255119e-05}, 'of': {'adp': 0.26278291039657886}, 'his': {'det': 0.043330620246628336}, 'elbow': {'noun': 1.2717792191275595e-05}, 'hose': {'noun': 2.1196320318792658e-05}, 'was': {'verb': 0.047972247121049354}, 'free': {'adv': 0.0002242504428946247}, '!': {'.': 0.01065406448365538}}"
   ]
  },
  {
   "cell_type": "code",
   "execution_count": 80,
   "metadata": {},
   "outputs": [],
   "source": [
    "t = Test()                         \n",
    "for word in t.emission_counts:\n",
    "    for pos in t.emission_counts[word]:\n",
    "        if word not in ep :\n",
    "            ep[word]= {pos :t.emission_counts[word][pos] / sum(t.transition_counts[pos].values())}\n",
    "        else:\n",
    "            ep[word][pos] = t.emission_counts[word][pos] / sum(t.transition_counts[pos].values())"
   ]
  },
  {
   "cell_type": "code",
   "execution_count": 81,
   "metadata": {},
   "outputs": [
    {
     "data": {
      "text/plain": [
       "{'conj': 0.7546187543648022, 'x': 0.0025}"
      ]
     },
     "execution_count": 81,
     "metadata": {},
     "output_type": "execute_result"
    }
   ],
   "source": [
    "ep['and']"
   ]
  },
  {
   "cell_type": "code",
   "execution_count": 29,
   "metadata": {},
   "outputs": [
    {
     "name": "stdout",
     "output_type": "stream",
     "text": [
      "poet noun\n",
      "0.0002755521641443046\n",
      "twisted verb\n",
      "6.158183199107748e-05\n",
      "again adv\n",
      "0.008835467450048214\n",
      "and conj\n"
     ]
    },
    {
     "ename": "KeyError",
     "evalue": "'conj'",
     "output_type": "error",
     "traceback": [
      "\u001b[0;31m---------------------------------------------------------------------------\u001b[0m",
      "\u001b[0;31mKeyError\u001b[0m                                  Traceback (most recent call last)",
      "\u001b[0;32m<ipython-input-29-ddd56a4bc822>\u001b[0m in \u001b[0;36m<module>\u001b[0;34m\u001b[0m\n\u001b[1;32m      2\u001b[0m     \u001b[0;32mfor\u001b[0m \u001b[0mpos\u001b[0m \u001b[0;32min\u001b[0m \u001b[0memissions\u001b[0m\u001b[0;34m[\u001b[0m\u001b[0mw\u001b[0m\u001b[0;34m]\u001b[0m\u001b[0;34m:\u001b[0m\u001b[0;34m\u001b[0m\u001b[0;34m\u001b[0m\u001b[0m\n\u001b[1;32m      3\u001b[0m         \u001b[0mprint\u001b[0m\u001b[0;34m(\u001b[0m\u001b[0mw\u001b[0m\u001b[0;34m,\u001b[0m \u001b[0mpos\u001b[0m\u001b[0;34m)\u001b[0m\u001b[0;34m\u001b[0m\u001b[0;34m\u001b[0m\u001b[0m\n\u001b[0;32m----> 4\u001b[0;31m         \u001b[0mprint\u001b[0m\u001b[0;34m(\u001b[0m\u001b[0mep\u001b[0m\u001b[0;34m[\u001b[0m\u001b[0mw\u001b[0m\u001b[0;34m]\u001b[0m\u001b[0;34m[\u001b[0m\u001b[0mpos\u001b[0m\u001b[0;34m]\u001b[0m\u001b[0;34m)\u001b[0m\u001b[0;34m\u001b[0m\u001b[0;34m\u001b[0m\u001b[0m\n\u001b[0m\u001b[1;32m      5\u001b[0m         \u001b[0;32mif\u001b[0m \u001b[0mep\u001b[0m\u001b[0;34m[\u001b[0m\u001b[0mw\u001b[0m\u001b[0;34m]\u001b[0m\u001b[0;34m[\u001b[0m\u001b[0mpos\u001b[0m\u001b[0;34m]\u001b[0m \u001b[0;34m!=\u001b[0m \u001b[0memissions\u001b[0m\u001b[0;34m[\u001b[0m\u001b[0mw\u001b[0m\u001b[0;34m]\u001b[0m\u001b[0;34m[\u001b[0m\u001b[0mpos\u001b[0m\u001b[0;34m]\u001b[0m\u001b[0;34m:\u001b[0m\u001b[0;34m\u001b[0m\u001b[0;34m\u001b[0m\u001b[0m\n\u001b[1;32m      6\u001b[0m             \u001b[0mprint\u001b[0m\u001b[0;34m(\u001b[0m\u001b[0mw\u001b[0m\u001b[0;34m)\u001b[0m\u001b[0;34m\u001b[0m\u001b[0;34m\u001b[0m\u001b[0m\n",
      "\u001b[0;31mKeyError\u001b[0m: 'conj'"
     ]
    }
   ],
   "source": [
    "for w in emissions:\n",
    "    for pos in emissions[w]:\n",
    "        print(w, pos)\n",
    "        print(ep[w][pos])\n",
    "        if ep[w][pos] != emissions[w][pos]:\n",
    "            print(w)\n",
    "            print(ep[w])\n",
    "            print(emissions[w])\n",
    "#ep['poet'] == emissions['poet']"
   ]
  },
  {
   "cell_type": "code",
   "execution_count": 18,
   "metadata": {},
   "outputs": [],
   "source": [
    "emissions = {'poet': {'noun': 0.0002755521641443046}, 'twisted': {'verb': 6.158183199107748e-05}, 'again': {'adv': 0.008835467450048214}, 'and': {'conj': 0.7546187543648022}, 'knuckles': {'noun': 1.2717792191275595e-05}, 'scraped': {'verb': 1.3684851553572773e-05}, 'on': {'adp': 0.040948884495905113}, 'the': {'x': 0.0025}, 'air': {'noun': 0.0008436135486879477}, 'tank': {'noun': 3.391411251006825e-05}, ',': {'.': 0.6615446995330109}, 'ripping': {'verb': 6.8424257767863865e-06}, 'off': {'adp': 0.0008633557913422359}, 'skin': {'noun': 0.00010598160159396329}, '.': {'.': 0.5333743463549677}, 'desperately': {'adv': 0.00026910053147354967}, 'nick': {'noun': 8.478528127517063e-06}, 'flashed': {'verb': 4.7896980437504705e-05}, 'one': {'num': 0.171335408329628}, 'hand': {'noun': 0.0012081902581711815}, 'up': {'prt': 0.05098302055406613}, 'catching': {'verb': 3.421212888393193e-05}, \"poet's\": {'noun': 3.391411251006825e-05}, 'neck': {'noun': 0.00017804909067785832}, 'in': {'adp': 0.14809375882519063}, 'bend': {'noun': 2.543558438255119e-05}, 'of': {'adp': 0.26278291039657886}, 'his': {'det': 0.043330620246628336}, 'elbow': {'noun': 1.2717792191275595e-05}, 'hose': {'noun': 2.1196320318792658e-05}, 'was': {'verb': 0.047972247121049354}, 'free': {'adv': 0.0002242504428946247}, '!': {'.': 0.01065406448365538}}"
   ]
  },
  {
   "cell_type": "code",
   "execution_count": null,
   "metadata": {},
   "outputs": [],
   "source": []
  }
 ],
 "metadata": {
  "interpreter": {
   "hash": "31f2aee4e71d21fbe5cf8b01ff0e069b9275f58929596ceb00d14d90e3e16cd6"
  },
  "kernelspec": {
   "display_name": "Python 3.7.3 64-bit",
   "language": "python",
   "name": "python3"
  },
  "language_info": {
   "codemirror_mode": {
    "name": "ipython",
    "version": 3
   },
   "file_extension": ".py",
   "mimetype": "text/x-python",
   "name": "python",
   "nbconvert_exporter": "python",
   "pygments_lexer": "ipython3",
   "version": "3.8.5"
  },
  "orig_nbformat": 4
 },
 "nbformat": 4,
 "nbformat_minor": 2
}
